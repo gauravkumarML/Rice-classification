{
 "cells": [
  {
   "metadata": {
    "ExecuteTime": {
     "end_time": "2025-08-24T12:16:30.070922Z",
     "start_time": "2025-08-24T12:16:29.673681Z"
    }
   },
   "cell_type": "code",
   "source": [
    "import kagglehub\n",
    "from keras.src.backend.jax.nn import sigmoid\n",
    "\n",
    "path = kagglehub.dataset_download(\"mssmartypants/rice-type-classification\")\n",
    "\n",
    "print(\"Path to dataset files:\", path)\n",
    "\n",
    "import os\n",
    "path = \"/Users/gauravkumar/.cache/kagglehub/datasets/mssmartypants/rice-type-classification/versions/2\"\n",
    "print(os.listdir(path))\n"
   ],
   "id": "fbc121e30a2defb3",
   "outputs": [
    {
     "name": "stdout",
     "output_type": "stream",
     "text": [
      "Path to dataset files: /Users/gauravkumar/.cache/kagglehub/datasets/mssmartypants/rice-type-classification/versions/2\n",
      "['riceClassification.csv']\n"
     ]
    }
   ],
   "execution_count": 21
  },
  {
   "metadata": {
    "ExecuteTime": {
     "end_time": "2025-08-25T11:26:11.618304Z",
     "start_time": "2025-08-25T11:26:11.599786Z"
    }
   },
   "cell_type": "code",
   "source": [
    "import torch\n",
    "import torch.nn as nn\n",
    "from torch.optim import Adam\n",
    "from torch.utils.data import Dataset, DataLoader\n",
    "from torchsummary import summary\n",
    "from sklearn.model_selection import train_test_split\n",
    "from sklearn.metrics import accuracy_score\n",
    "import matplotlib.pyplot as plt\n",
    "import pandas as pd\n",
    "import numpy as np\n",
    "#device = \"mps\""
   ],
   "id": "63a1e4eb7ad514aa",
   "outputs": [],
   "execution_count": 147
  },
  {
   "metadata": {
    "ExecuteTime": {
     "end_time": "2025-08-25T11:26:12.178557Z",
     "start_time": "2025-08-25T11:26:12.074304Z"
    }
   },
   "cell_type": "code",
   "source": "data_df = pd.read_csv(\"/Users/gauravkumar/.cache/kagglehub/datasets/mssmartypants/rice-type-classification/versions/2/riceClassification.csv\")",
   "id": "4bda43f65056231b",
   "outputs": [],
   "execution_count": 148
  },
  {
   "metadata": {
    "ExecuteTime": {
     "end_time": "2025-08-25T11:26:12.494723Z",
     "start_time": "2025-08-25T11:26:12.468175Z"
    }
   },
   "cell_type": "code",
   "source": "data_df.head()",
   "id": "b564a39f4a71a2df",
   "outputs": [
    {
     "data": {
      "text/plain": [
       "   id  Area  MajorAxisLength  MinorAxisLength  Eccentricity  ConvexArea  \\\n",
       "0   1  4537        92.229316        64.012769      0.719916        4677   \n",
       "1   2  2872        74.691881        51.400454      0.725553        3015   \n",
       "2   3  3048        76.293164        52.043491      0.731211        3132   \n",
       "3   4  3073        77.033628        51.928487      0.738639        3157   \n",
       "4   5  3693        85.124785        56.374021      0.749282        3802   \n",
       "\n",
       "   EquivDiameter    Extent  Perimeter  Roundness  AspectRation  Class  \n",
       "0      76.004525  0.657536    273.085   0.764510      1.440796      1  \n",
       "1      60.471018  0.713009    208.317   0.831658      1.453137      1  \n",
       "2      62.296341  0.759153    210.012   0.868434      1.465950      1  \n",
       "3      62.551300  0.783529    210.657   0.870203      1.483456      1  \n",
       "4      68.571668  0.769375    230.332   0.874743      1.510000      1  "
      ],
      "text/html": [
       "<div>\n",
       "<style scoped>\n",
       "    .dataframe tbody tr th:only-of-type {\n",
       "        vertical-align: middle;\n",
       "    }\n",
       "\n",
       "    .dataframe tbody tr th {\n",
       "        vertical-align: top;\n",
       "    }\n",
       "\n",
       "    .dataframe thead th {\n",
       "        text-align: right;\n",
       "    }\n",
       "</style>\n",
       "<table border=\"1\" class=\"dataframe\">\n",
       "  <thead>\n",
       "    <tr style=\"text-align: right;\">\n",
       "      <th></th>\n",
       "      <th>id</th>\n",
       "      <th>Area</th>\n",
       "      <th>MajorAxisLength</th>\n",
       "      <th>MinorAxisLength</th>\n",
       "      <th>Eccentricity</th>\n",
       "      <th>ConvexArea</th>\n",
       "      <th>EquivDiameter</th>\n",
       "      <th>Extent</th>\n",
       "      <th>Perimeter</th>\n",
       "      <th>Roundness</th>\n",
       "      <th>AspectRation</th>\n",
       "      <th>Class</th>\n",
       "    </tr>\n",
       "  </thead>\n",
       "  <tbody>\n",
       "    <tr>\n",
       "      <th>0</th>\n",
       "      <td>1</td>\n",
       "      <td>4537</td>\n",
       "      <td>92.229316</td>\n",
       "      <td>64.012769</td>\n",
       "      <td>0.719916</td>\n",
       "      <td>4677</td>\n",
       "      <td>76.004525</td>\n",
       "      <td>0.657536</td>\n",
       "      <td>273.085</td>\n",
       "      <td>0.764510</td>\n",
       "      <td>1.440796</td>\n",
       "      <td>1</td>\n",
       "    </tr>\n",
       "    <tr>\n",
       "      <th>1</th>\n",
       "      <td>2</td>\n",
       "      <td>2872</td>\n",
       "      <td>74.691881</td>\n",
       "      <td>51.400454</td>\n",
       "      <td>0.725553</td>\n",
       "      <td>3015</td>\n",
       "      <td>60.471018</td>\n",
       "      <td>0.713009</td>\n",
       "      <td>208.317</td>\n",
       "      <td>0.831658</td>\n",
       "      <td>1.453137</td>\n",
       "      <td>1</td>\n",
       "    </tr>\n",
       "    <tr>\n",
       "      <th>2</th>\n",
       "      <td>3</td>\n",
       "      <td>3048</td>\n",
       "      <td>76.293164</td>\n",
       "      <td>52.043491</td>\n",
       "      <td>0.731211</td>\n",
       "      <td>3132</td>\n",
       "      <td>62.296341</td>\n",
       "      <td>0.759153</td>\n",
       "      <td>210.012</td>\n",
       "      <td>0.868434</td>\n",
       "      <td>1.465950</td>\n",
       "      <td>1</td>\n",
       "    </tr>\n",
       "    <tr>\n",
       "      <th>3</th>\n",
       "      <td>4</td>\n",
       "      <td>3073</td>\n",
       "      <td>77.033628</td>\n",
       "      <td>51.928487</td>\n",
       "      <td>0.738639</td>\n",
       "      <td>3157</td>\n",
       "      <td>62.551300</td>\n",
       "      <td>0.783529</td>\n",
       "      <td>210.657</td>\n",
       "      <td>0.870203</td>\n",
       "      <td>1.483456</td>\n",
       "      <td>1</td>\n",
       "    </tr>\n",
       "    <tr>\n",
       "      <th>4</th>\n",
       "      <td>5</td>\n",
       "      <td>3693</td>\n",
       "      <td>85.124785</td>\n",
       "      <td>56.374021</td>\n",
       "      <td>0.749282</td>\n",
       "      <td>3802</td>\n",
       "      <td>68.571668</td>\n",
       "      <td>0.769375</td>\n",
       "      <td>230.332</td>\n",
       "      <td>0.874743</td>\n",
       "      <td>1.510000</td>\n",
       "      <td>1</td>\n",
       "    </tr>\n",
       "  </tbody>\n",
       "</table>\n",
       "</div>"
      ]
     },
     "execution_count": 149,
     "metadata": {},
     "output_type": "execute_result"
    }
   ],
   "execution_count": 149
  },
  {
   "metadata": {
    "ExecuteTime": {
     "end_time": "2025-08-25T11:26:13.091815Z",
     "start_time": "2025-08-25T11:26:13.077491Z"
    }
   },
   "cell_type": "code",
   "source": [
    "data_df.dropna(inplace=True)\n",
    "data_df.drop(['id'], axis=1, inplace=True)"
   ],
   "id": "8942922ebe90f758",
   "outputs": [],
   "execution_count": 150
  },
  {
   "metadata": {
    "ExecuteTime": {
     "end_time": "2025-08-25T11:26:13.523323Z",
     "start_time": "2025-08-25T11:26:13.514824Z"
    }
   },
   "cell_type": "code",
   "source": "data_df.head()",
   "id": "bd30d6a359dc7025",
   "outputs": [
    {
     "data": {
      "text/plain": [
       "   Area  MajorAxisLength  MinorAxisLength  Eccentricity  ConvexArea  \\\n",
       "0  4537        92.229316        64.012769      0.719916        4677   \n",
       "1  2872        74.691881        51.400454      0.725553        3015   \n",
       "2  3048        76.293164        52.043491      0.731211        3132   \n",
       "3  3073        77.033628        51.928487      0.738639        3157   \n",
       "4  3693        85.124785        56.374021      0.749282        3802   \n",
       "\n",
       "   EquivDiameter    Extent  Perimeter  Roundness  AspectRation  Class  \n",
       "0      76.004525  0.657536    273.085   0.764510      1.440796      1  \n",
       "1      60.471018  0.713009    208.317   0.831658      1.453137      1  \n",
       "2      62.296341  0.759153    210.012   0.868434      1.465950      1  \n",
       "3      62.551300  0.783529    210.657   0.870203      1.483456      1  \n",
       "4      68.571668  0.769375    230.332   0.874743      1.510000      1  "
      ],
      "text/html": [
       "<div>\n",
       "<style scoped>\n",
       "    .dataframe tbody tr th:only-of-type {\n",
       "        vertical-align: middle;\n",
       "    }\n",
       "\n",
       "    .dataframe tbody tr th {\n",
       "        vertical-align: top;\n",
       "    }\n",
       "\n",
       "    .dataframe thead th {\n",
       "        text-align: right;\n",
       "    }\n",
       "</style>\n",
       "<table border=\"1\" class=\"dataframe\">\n",
       "  <thead>\n",
       "    <tr style=\"text-align: right;\">\n",
       "      <th></th>\n",
       "      <th>Area</th>\n",
       "      <th>MajorAxisLength</th>\n",
       "      <th>MinorAxisLength</th>\n",
       "      <th>Eccentricity</th>\n",
       "      <th>ConvexArea</th>\n",
       "      <th>EquivDiameter</th>\n",
       "      <th>Extent</th>\n",
       "      <th>Perimeter</th>\n",
       "      <th>Roundness</th>\n",
       "      <th>AspectRation</th>\n",
       "      <th>Class</th>\n",
       "    </tr>\n",
       "  </thead>\n",
       "  <tbody>\n",
       "    <tr>\n",
       "      <th>0</th>\n",
       "      <td>4537</td>\n",
       "      <td>92.229316</td>\n",
       "      <td>64.012769</td>\n",
       "      <td>0.719916</td>\n",
       "      <td>4677</td>\n",
       "      <td>76.004525</td>\n",
       "      <td>0.657536</td>\n",
       "      <td>273.085</td>\n",
       "      <td>0.764510</td>\n",
       "      <td>1.440796</td>\n",
       "      <td>1</td>\n",
       "    </tr>\n",
       "    <tr>\n",
       "      <th>1</th>\n",
       "      <td>2872</td>\n",
       "      <td>74.691881</td>\n",
       "      <td>51.400454</td>\n",
       "      <td>0.725553</td>\n",
       "      <td>3015</td>\n",
       "      <td>60.471018</td>\n",
       "      <td>0.713009</td>\n",
       "      <td>208.317</td>\n",
       "      <td>0.831658</td>\n",
       "      <td>1.453137</td>\n",
       "      <td>1</td>\n",
       "    </tr>\n",
       "    <tr>\n",
       "      <th>2</th>\n",
       "      <td>3048</td>\n",
       "      <td>76.293164</td>\n",
       "      <td>52.043491</td>\n",
       "      <td>0.731211</td>\n",
       "      <td>3132</td>\n",
       "      <td>62.296341</td>\n",
       "      <td>0.759153</td>\n",
       "      <td>210.012</td>\n",
       "      <td>0.868434</td>\n",
       "      <td>1.465950</td>\n",
       "      <td>1</td>\n",
       "    </tr>\n",
       "    <tr>\n",
       "      <th>3</th>\n",
       "      <td>3073</td>\n",
       "      <td>77.033628</td>\n",
       "      <td>51.928487</td>\n",
       "      <td>0.738639</td>\n",
       "      <td>3157</td>\n",
       "      <td>62.551300</td>\n",
       "      <td>0.783529</td>\n",
       "      <td>210.657</td>\n",
       "      <td>0.870203</td>\n",
       "      <td>1.483456</td>\n",
       "      <td>1</td>\n",
       "    </tr>\n",
       "    <tr>\n",
       "      <th>4</th>\n",
       "      <td>3693</td>\n",
       "      <td>85.124785</td>\n",
       "      <td>56.374021</td>\n",
       "      <td>0.749282</td>\n",
       "      <td>3802</td>\n",
       "      <td>68.571668</td>\n",
       "      <td>0.769375</td>\n",
       "      <td>230.332</td>\n",
       "      <td>0.874743</td>\n",
       "      <td>1.510000</td>\n",
       "      <td>1</td>\n",
       "    </tr>\n",
       "  </tbody>\n",
       "</table>\n",
       "</div>"
      ]
     },
     "execution_count": 151,
     "metadata": {},
     "output_type": "execute_result"
    }
   ],
   "execution_count": 151
  },
  {
   "metadata": {
    "ExecuteTime": {
     "end_time": "2025-08-25T11:26:14.031175Z",
     "start_time": "2025-08-25T11:26:14.016940Z"
    }
   },
   "cell_type": "code",
   "source": "print(data_df[\"Class\"].value_counts())",
   "id": "ed6b7aca20341d12",
   "outputs": [
    {
     "name": "stdout",
     "output_type": "stream",
     "text": [
      "Class\n",
      "1    9985\n",
      "0    8200\n",
      "Name: count, dtype: int64\n"
     ]
    }
   ],
   "execution_count": 152
  },
  {
   "metadata": {
    "ExecuteTime": {
     "end_time": "2025-08-25T11:26:14.610398Z",
     "start_time": "2025-08-25T11:26:14.582235Z"
    }
   },
   "cell_type": "code",
   "source": [
    "orginal_df = data_df.copy()\n",
    "\n",
    "for columns in data_df.columns: #normalisation\n",
    "    data_df[columns]= data_df[columns]/data_df[columns].abs().max()"
   ],
   "id": "a3fcf413d8ba2afd",
   "outputs": [],
   "execution_count": 153
  },
  {
   "metadata": {
    "ExecuteTime": {
     "end_time": "2025-08-25T11:26:15.087484Z",
     "start_time": "2025-08-25T11:26:15.081647Z"
    }
   },
   "cell_type": "code",
   "source": [
    "X = np.array(data_df.iloc[:,:-1])\n",
    "y = np.array(data_df.iloc[:,-1])"
   ],
   "id": "dd67f0e8eac0b4b5",
   "outputs": [],
   "execution_count": 154
  },
  {
   "metadata": {
    "ExecuteTime": {
     "end_time": "2025-08-25T11:26:15.784078Z",
     "start_time": "2025-08-25T11:26:15.766675Z"
    }
   },
   "cell_type": "code",
   "source": "X_train, X_test, y_train, y_test = train_test_split(X, y, test_size= 0.3)",
   "id": "2621d2c3ef95cfe4",
   "outputs": [],
   "execution_count": 155
  },
  {
   "metadata": {
    "ExecuteTime": {
     "end_time": "2025-08-25T11:26:16.362298Z",
     "start_time": "2025-08-25T11:26:16.356986Z"
    }
   },
   "cell_type": "code",
   "source": "X_test, X_val, y_test, y_val = train_test_split(X_test, y_test, test_size=0.5)",
   "id": "42628c510aed566c",
   "outputs": [],
   "execution_count": 156
  },
  {
   "metadata": {
    "ExecuteTime": {
     "end_time": "2025-08-25T11:26:16.932034Z",
     "start_time": "2025-08-25T11:26:16.928591Z"
    }
   },
   "cell_type": "code",
   "source": "print(X_train.shape, X_test.shape, y_train.shape, y_test.shape)",
   "id": "4174b2f2676173ea",
   "outputs": [
    {
     "name": "stdout",
     "output_type": "stream",
     "text": [
      "(12729, 10) (2728, 10) (12729,) (2728,)\n"
     ]
    }
   ],
   "execution_count": 157
  },
  {
   "metadata": {
    "ExecuteTime": {
     "end_time": "2025-08-25T11:26:17.746033Z",
     "start_time": "2025-08-25T11:26:17.739284Z"
    }
   },
   "cell_type": "code",
   "source": [
    "    class Dataset(Dataset):\n",
    "        def __init__(self, X, y):\n",
    "            self.X = torch.tensor(X, dtype=torch.float32)\n",
    "            self.y = torch.tensor(y, dtype=torch.float32)\n",
    "        def __len__(self):\n",
    "            return len(self.X)\n",
    "        def __getitem__(self, idx):\n",
    "            return self.X[idx], self.y[idx]\n"
   ],
   "id": "e96386755002f228",
   "outputs": [],
   "execution_count": 158
  },
  {
   "metadata": {
    "ExecuteTime": {
     "end_time": "2025-08-25T11:26:20.818459Z",
     "start_time": "2025-08-25T11:26:20.791058Z"
    }
   },
   "cell_type": "code",
   "source": [
    "training_set = Dataset(X_train, y_train)\n",
    "validation_set = Dataset(X_val, y_val)\n",
    "test_set = Dataset(X_test, y_test)\n"
   ],
   "id": "fb79d45e64153a92",
   "outputs": [],
   "execution_count": 159
  },
  {
   "metadata": {
    "ExecuteTime": {
     "end_time": "2025-08-25T12:15:29.945419Z",
     "start_time": "2025-08-25T12:15:29.935899Z"
    }
   },
   "cell_type": "code",
   "source": [
    "training_loader = DataLoader(training_set, batch_size=8, shuffle=True)\n",
    "validation_loader = DataLoader(validation_set, batch_size=8, shuffle=True)\n",
    "test_loader = DataLoader(test_set, batch_size=8, shuffle=True)\n"
   ],
   "id": "2fe7c0650bf8e804",
   "outputs": [],
   "execution_count": 219
  },
  {
   "metadata": {
    "ExecuteTime": {
     "end_time": "2025-08-25T12:15:30.659273Z",
     "start_time": "2025-08-25T12:15:30.646646Z"
    }
   },
   "cell_type": "code",
   "source": [
    "hidden_layer_neurons = 10\n",
    "class MyModel(nn.Module):\n",
    "    def __init__(self):\n",
    "        super(MyModel, self).__init__()\n",
    "        self.input_layer = nn.Linear(X_train.shape[1], hidden_layer_neurons)\n",
    "        self.linear = nn.Linear(hidden_layer_neurons, 1)\n",
    "        self.sigmoid = nn.Sigmoid()\n",
    "    def forward(self,x):\n",
    "        x = self.input_layer(x)\n",
    "        x = self.linear(x)\n",
    "        x = self.sigmoid(x)\n",
    "        return x\n",
    "\n",
    "model = MyModel()"
   ],
   "id": "bfc7ce01b73de37e",
   "outputs": [],
   "execution_count": 220
  },
  {
   "metadata": {
    "ExecuteTime": {
     "end_time": "2025-08-25T12:15:31.155329Z",
     "start_time": "2025-08-25T12:15:31.143771Z"
    }
   },
   "cell_type": "code",
   "source": "summary(model, (X_train.shape[1], hidden_layer_neurons))",
   "id": "61d8c93b090a4035",
   "outputs": [
    {
     "name": "stdout",
     "output_type": "stream",
     "text": [
      "----------------------------------------------------------------\n",
      "        Layer (type)               Output Shape         Param #\n",
      "================================================================\n",
      "            Linear-1               [-1, 10, 10]             110\n",
      "            Linear-2                [-1, 10, 1]              11\n",
      "           Sigmoid-3                [-1, 10, 1]               0\n",
      "================================================================\n",
      "Total params: 121\n",
      "Trainable params: 121\n",
      "Non-trainable params: 0\n",
      "----------------------------------------------------------------\n",
      "Input size (MB): 0.00\n",
      "Forward/backward pass size (MB): 0.00\n",
      "Params size (MB): 0.00\n",
      "Estimated Total Size (MB): 0.00\n",
      "----------------------------------------------------------------\n"
     ]
    }
   ],
   "execution_count": 221
  },
  {
   "metadata": {
    "ExecuteTime": {
     "end_time": "2025-08-25T12:22:34.155077Z",
     "start_time": "2025-08-25T12:22:34.150916Z"
    }
   },
   "cell_type": "code",
   "source": [
    "criterion = nn.BCELoss()\n",
    "optimizer = Adam(model.parameters(), lr=1e-3)"
   ],
   "id": "20130265437eb371",
   "outputs": [],
   "execution_count": 261
  },
  {
   "metadata": {
    "ExecuteTime": {
     "end_time": "2025-08-25T12:22:40.108272Z",
     "start_time": "2025-08-25T12:22:34.510302Z"
    }
   },
   "cell_type": "code",
   "source": [
    "total_loss_train_plot = []\n",
    "total_loss_validation_plot = []\n",
    "total_acc_train_plot = []\n",
    "total_acc_validation_plot = []\n",
    "epochs = 20\n",
    "for epoch in range(epochs):\n",
    "    total_acc_train = 0\n",
    "    total_loss_train = 0\n",
    "    total_acc_val = 0\n",
    "    total_loss_val = 0\n",
    "\n",
    "    for data in training_loader:\n",
    "        input, label = data\n",
    "\n",
    "        prediction = model(input).squeeze(1)\n",
    "        batch_loss = criterion(prediction, label)\n",
    "        total_loss_train += batch_loss.item()\n",
    "        accuracy = ((prediction).round() == label).sum().item()\n",
    "        total_acc_train += accuracy\n",
    "\n",
    "        batch_loss.backward()\n",
    "        optimizer.step()\n",
    "        optimizer.zero_grad()\n",
    "\n",
    "    with torch.no_grad():\n",
    "        for data in validation_loader:\n",
    "            input, label = data\n",
    "            prediction = model(input).squeeze(1)\n",
    "            batch_loss = criterion(prediction, label)\n",
    "            total_loss_val = batch_loss.item()\n",
    "            accuracy = (prediction.round() == label).sum().item()\n",
    "\n",
    "            total_acc_val += accuracy\n",
    "\n",
    "    total_loss_train_plot.append(round((total_loss_train)/1000,4))\n",
    "    total_loss_validation_plot.append(round((total_loss_val)/1000,4))\n",
    "\n",
    "    total_acc_train_plot.append(round(total_acc_train/training_set.__len__()*100,4))\n",
    "    total_acc_validation_plot.append(round(total_acc_val/validation_set.__len__()*100,4))\n",
    "    print(f\"Current Epoch: {epoch+1}\")\n",
    "    print(f\"Total Loss: {round((total_loss_train),4)}\")\n",
    "    print(\"=\"*25)\n",
    "    print(f\"Total Accuracy: {round(total_acc_train/training_set.__len__()*100,4)}\")\n",
    "    print(\"=\"*25)\n",
    "    print(f\"Total Validation Accuracy: {round(total_acc_val/validation_set.__len__()*100,4)} \")\n",
    "\n"
   ],
   "id": "db342e932dd4a20e",
   "outputs": [
    {
     "name": "stdout",
     "output_type": "stream",
     "text": [
      "Current Epoch: 1\n",
      "Total Loss: 60.9082\n",
      "=========================\n",
      "Total Accuracy: 98.6645\n",
      "=========================\n",
      "Total Validation Accuracy: 98.6437 \n",
      "Current Epoch: 2\n",
      "Total Loss: 61.0505\n",
      "=========================\n",
      "Total Accuracy: 98.6959\n",
      "=========================\n",
      "Total Validation Accuracy: 98.6804 \n",
      "Current Epoch: 3\n",
      "Total Loss: 60.9676\n",
      "=========================\n",
      "Total Accuracy: 98.7273\n",
      "=========================\n",
      "Total Validation Accuracy: 98.717 \n",
      "Current Epoch: 4\n",
      "Total Loss: 60.9783\n",
      "=========================\n",
      "Total Accuracy: 98.6488\n",
      "=========================\n",
      "Total Validation Accuracy: 98.717 \n",
      "Current Epoch: 5\n",
      "Total Loss: 60.8646\n",
      "=========================\n",
      "Total Accuracy: 98.6723\n",
      "=========================\n",
      "Total Validation Accuracy: 98.717 \n",
      "Current Epoch: 6\n",
      "Total Loss: 60.9242\n",
      "=========================\n",
      "Total Accuracy: 98.7116\n",
      "=========================\n",
      "Total Validation Accuracy: 98.717 \n",
      "Current Epoch: 7\n",
      "Total Loss: 60.8099\n",
      "=========================\n",
      "Total Accuracy: 98.6723\n",
      "=========================\n",
      "Total Validation Accuracy: 98.717 \n",
      "Current Epoch: 8\n",
      "Total Loss: 60.9908\n",
      "=========================\n",
      "Total Accuracy: 98.688\n",
      "=========================\n",
      "Total Validation Accuracy: 98.6804 \n",
      "Current Epoch: 9\n",
      "Total Loss: 60.9659\n",
      "=========================\n",
      "Total Accuracy: 98.6802\n",
      "=========================\n",
      "Total Validation Accuracy: 98.717 \n",
      "Current Epoch: 10\n",
      "Total Loss: 60.6951\n",
      "=========================\n",
      "Total Accuracy: 98.688\n",
      "=========================\n",
      "Total Validation Accuracy: 98.6437 \n",
      "Current Epoch: 11\n",
      "Total Loss: 61.2717\n",
      "=========================\n",
      "Total Accuracy: 98.7037\n",
      "=========================\n",
      "Total Validation Accuracy: 98.607 \n",
      "Current Epoch: 12\n",
      "Total Loss: 60.8713\n",
      "=========================\n",
      "Total Accuracy: 98.7195\n",
      "=========================\n",
      "Total Validation Accuracy: 98.6804 \n",
      "Current Epoch: 13\n",
      "Total Loss: 60.7712\n",
      "=========================\n",
      "Total Accuracy: 98.7273\n",
      "=========================\n",
      "Total Validation Accuracy: 98.6804 \n",
      "Current Epoch: 14\n",
      "Total Loss: 60.7491\n",
      "=========================\n",
      "Total Accuracy: 98.6723\n",
      "=========================\n",
      "Total Validation Accuracy: 98.717 \n",
      "Current Epoch: 15\n",
      "Total Loss: 60.9145\n",
      "=========================\n",
      "Total Accuracy: 98.7037\n",
      "=========================\n",
      "Total Validation Accuracy: 98.717 \n",
      "Current Epoch: 16\n",
      "Total Loss: 60.8944\n",
      "=========================\n",
      "Total Accuracy: 98.7195\n",
      "=========================\n",
      "Total Validation Accuracy: 98.717 \n",
      "Current Epoch: 17\n",
      "Total Loss: 60.8987\n",
      "=========================\n",
      "Total Accuracy: 98.7037\n",
      "=========================\n",
      "Total Validation Accuracy: 98.6804 \n",
      "Current Epoch: 18\n",
      "Total Loss: 60.7637\n",
      "=========================\n",
      "Total Accuracy: 98.6645\n",
      "=========================\n",
      "Total Validation Accuracy: 98.6804 \n",
      "Current Epoch: 19\n",
      "Total Loss: 60.6746\n",
      "=========================\n",
      "Total Accuracy: 98.7116\n",
      "=========================\n",
      "Total Validation Accuracy: 98.6437 \n",
      "Current Epoch: 20\n",
      "Total Loss: 60.79\n",
      "=========================\n",
      "Total Accuracy: 98.6959\n",
      "=========================\n",
      "Total Validation Accuracy: 98.717 \n"
     ]
    }
   ],
   "execution_count": 262
  },
  {
   "metadata": {
    "ExecuteTime": {
     "end_time": "2025-08-25T12:23:09.045903Z",
     "start_time": "2025-08-25T12:23:09.003805Z"
    }
   },
   "cell_type": "code",
   "source": [
    "with torch.no_grad():\n",
    "    total_loss_test = 0\n",
    "    total_accuracy_test = 0\n",
    "    for data in test_loader:\n",
    "        inputs, label = data\n",
    "        prediction = model(inputs).squeeze(1)\n",
    "        batch_loss_test = criterion(prediction, label)\n",
    "        total_loss_test = batch_loss_test\n",
    "        accuracy = (prediction.round() == label).sum().item()\n",
    "        total_accuracy_test += accuracy\n",
    "\n",
    "print(\"Accuracy:\", round(total_accuracy_test/test_set.__len__()*100,4))\n"
   ],
   "id": "88293fc6b931c5de",
   "outputs": [
    {
     "name": "stdout",
     "output_type": "stream",
     "text": [
      "Accuracy: 98.7903\n"
     ]
    }
   ],
   "execution_count": 263
  },
  {
   "metadata": {
    "ExecuteTime": {
     "end_time": "2025-08-25T12:23:26.576205Z",
     "start_time": "2025-08-25T12:23:26.502465Z"
    }
   },
   "cell_type": "code",
   "source": [
    "# visulisation\n",
    "\n",
    "fig, axs = plt.subplots(nrows = 1, ncols= 2, figsize=(10,5))\n",
    "axs[0].plot(total_loss_train_plot, label=\"Total Loss\")\n",
    "axs[0].plot(total_loss_validation_plot, label=\"Total Validation Loss\")\n",
    "\n",
    "axs[0].set_xlabel(\"Epoch\")\n",
    "axs[0].set_ylabel(\"Total Loss\")\n",
    "axs[0].set_ylim([0,0.5])\n",
    "axs[0].legend()\n",
    "\n",
    "axs[1].plot(total_acc_train_plot, label=\"Total Accuracy\")\n",
    "axs[1].plot(total_acc_validation_plot, label=\"Total Validation Accuracy\")\n",
    "\n",
    "axs[1].set_xlabel(\"Epoch\")\n",
    "axs[1].set_ylabel(\"Accuracy\")\n",
    "axs[1].set_ylim([95,100])\n",
    "axs[1].legend()\n",
    "\n",
    "plt.show()"
   ],
   "id": "8617bc874f5eeeef",
   "outputs": [
    {
     "data": {
      "text/plain": [
       "<Figure size 1000x500 with 2 Axes>"
      ],
      "image/png": "[encoded data removed]"
     },
     "metadata": {},
     "output_type": "display_data"
    }
   ],
   "execution_count": 267
  },
  {
   "metadata": {
    "ExecuteTime": {
     "end_time": "2025-08-25T12:23:12.419556Z",
     "start_time": "2025-08-25T12:23:12.416431Z"
    }
   },
   "cell_type": "code",
   "source": "",
   "id": "26d5066205c39db9",
   "outputs": [],
   "execution_count": null
  },
  {
   "metadata": {
    "ExecuteTime": {
     "end_time": "2025-08-25T12:23:15.178001Z",
     "start_time": "2025-08-25T12:23:15.174953Z"
    }
   },
   "cell_type": "code",
   "source": "",
   "id": "478b55e97229fa1f",
   "outputs": [],
   "execution_count": null
  },
  {
   "metadata": {
    "ExecuteTime": {
     "end_time": "2025-08-25T12:23:16.053103Z",
     "start_time": "2025-08-25T12:23:16.050740Z"
    }
   },
   "cell_type": "code",
   "source": "",
   "id": "cd56ebe725665437",
   "outputs": [],
   "execution_count": null
  },
  {
   "metadata": {},
   "cell_type": "code",
   "outputs": [],
   "execution_count": null,
   "source": "",
   "id": "10895b80d3b6255b"
  }
 ],
 "metadata": {
  "kernelspec": {
   "display_name": "Python 3",
   "language": "python",
   "name": "python3"
  },
  "language_info": {
   "codemirror_mode": {
    "name": "ipython",
    "version": 2
   },
   "file_extension": ".py",
   "mimetype": "text/x-python",
   "name": "python",
   "nbconvert_exporter": "python",
   "pygments_lexer": "ipython2",
   "version": "2.7.6"
  }
 },
 "nbformat": 4,
 "nbformat_minor": 5
}
